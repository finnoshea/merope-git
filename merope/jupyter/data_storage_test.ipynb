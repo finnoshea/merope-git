{
 "cells": [
  {
   "cell_type": "markdown",
   "id": "9e8be8a2",
   "metadata": {},
   "source": [
    "# Basic Test of Converting APS data from CSVs to Pandas Dataframes"
   ]
  },
  {
   "cell_type": "markdown",
   "id": "99a128cb",
   "metadata": {},
   "source": [
    "Finn O'Shea  \n",
    "September 02, 2021"
   ]
  },
  {
   "cell_type": "code",
   "execution_count": 1,
   "id": "54ce95b3",
   "metadata": {},
   "outputs": [],
   "source": [
    "# dumb overhead for using external files while they are being edited\n",
    "%load_ext autoreload\n",
    "%autoreload 2"
   ]
  },
  {
   "cell_type": "code",
   "execution_count": 2,
   "id": "04026658",
   "metadata": {},
   "outputs": [],
   "source": [
    "import os\n",
    "import csv\n",
    "\n",
    "import numpy as np\n",
    "import pandas as pd\n",
    "import dask.dataframe as dd\n",
    "import h5py\n",
    "\n",
    "from APS_data_collector import APSRunCollector,APSScenarioCollector\n",
    "from aps_data_handler import APSDataCollector"
   ]
  },
  {
   "cell_type": "code",
   "execution_count": 3,
   "id": "ec7cd0df",
   "metadata": {
    "scrolled": true
   },
   "outputs": [],
   "source": [
    "datapointer = '/sdf/group/ml/datasets/bes_anomaly_data/PSTrips-2020-01-13'\n",
    "runpointer = 'Run2019-1'\n",
    "subrunpointer = '2019-02-08-02:42:00'\n",
    "#subrunpointer = 'referenceData'\n",
    "datapath = os.path.join(datapointer,runpointer)"
   ]
  },
  {
   "cell_type": "markdown",
   "id": "347d6833",
   "metadata": {},
   "source": [
    "### Test the Run Collectors"
   ]
  },
  {
   "cell_type": "code",
   "execution_count": null,
   "id": "c96764b0",
   "metadata": {
    "scrolled": false
   },
   "outputs": [],
   "source": [
    "%%time\n",
    "aps = APSRunCollector(datapath)\n",
    "df = aps.collateData()\n",
    "df.head()"
   ]
  },
  {
   "cell_type": "code",
   "execution_count": 43,
   "id": "61e0371e",
   "metadata": {},
   "outputs": [
    {
     "name": "stdout",
     "output_type": "stream",
     "text": [
      "31881960\n",
      "114852008\n",
      "sector  magnet  feature       units\n",
      "S1B     H3      Time          s        float32\n",
      "                CAerrors      None        int8\n",
      "                CapTempAI     Deg C    float32\n",
      "                CurrentAI     Amps     float32\n",
      "                MagTempAI     Deg C    float32\n",
      "                                        ...   \n",
      "S15B    H4      CAerrors      None        int8\n",
      "                CapTempAI     Deg C    float32\n",
      "                CurrentAI     Amps     float32\n",
      "                MagTempAI     Deg C    float32\n",
      "                PeakAbsDevAI  Amps     float32\n",
      "Length: 9960, dtype: object\n"
     ]
    }
   ],
   "source": [
    "print(np.product(df.shape))\n",
    "print(df.memory_usage(deep=True).sum())\n",
    "print(df.dtypes)"
   ]
  },
  {
   "cell_type": "code",
   "execution_count": 44,
   "id": "073f0a3e",
   "metadata": {
    "scrolled": true
   },
   "outputs": [
    {
     "name": "stdout",
     "output_type": "stream",
     "text": [
      "CPU times: user 193 ms, sys: 495 ms, total: 688 ms\n",
      "Wall time: 5.88 s\n"
     ]
    }
   ],
   "source": [
    "%%time\n",
    "test = pd.HDFStore(os.path.join(datapath,'pandas_storage.h5'))\n",
    "test['base'] = df\n",
    "test.close()"
   ]
  },
  {
   "cell_type": "markdown",
   "id": "1578c7bb",
   "metadata": {},
   "source": [
    "### Naming the MultiIndex is much slower than creating the multiindex at concat time (in Pandas)"
   ]
  },
  {
   "cell_type": "code",
   "execution_count": 54,
   "id": "2bdcd652",
   "metadata": {},
   "outputs": [
    {
     "name": "stdout",
     "output_type": "stream",
     "text": [
      "254 µs ± 1.41 µs per loop (mean ± std. dev. of 7 runs, 1000 loops each)\n"
     ]
    },
    {
     "data": {
      "text/html": [
       "<div>\n",
       "<style scoped>\n",
       "    .dataframe tbody tr th:only-of-type {\n",
       "        vertical-align: middle;\n",
       "    }\n",
       "\n",
       "    .dataframe tbody tr th {\n",
       "        vertical-align: top;\n",
       "    }\n",
       "\n",
       "    .dataframe thead tr th {\n",
       "        text-align: left;\n",
       "    }\n",
       "</style>\n",
       "<table border=\"1\" class=\"dataframe\">\n",
       "  <thead>\n",
       "    <tr>\n",
       "      <th></th>\n",
       "      <th colspan=\"6\" halign=\"left\">fizz</th>\n",
       "      <th colspan=\"6\" halign=\"left\">bazz</th>\n",
       "      <th colspan=\"6\" halign=\"left\">flip</th>\n",
       "    </tr>\n",
       "    <tr>\n",
       "      <th></th>\n",
       "      <th>0</th>\n",
       "      <th>1</th>\n",
       "      <th>2</th>\n",
       "      <th>3</th>\n",
       "      <th>4</th>\n",
       "      <th>5</th>\n",
       "      <th>0</th>\n",
       "      <th>1</th>\n",
       "      <th>2</th>\n",
       "      <th>3</th>\n",
       "      <th>4</th>\n",
       "      <th>5</th>\n",
       "      <th>0</th>\n",
       "      <th>1</th>\n",
       "      <th>2</th>\n",
       "      <th>3</th>\n",
       "      <th>4</th>\n",
       "      <th>5</th>\n",
       "    </tr>\n",
       "  </thead>\n",
       "  <tbody>\n",
       "    <tr>\n",
       "      <th>0</th>\n",
       "      <td>0.472276</td>\n",
       "      <td>0.332820</td>\n",
       "      <td>0.592198</td>\n",
       "      <td>0.695907</td>\n",
       "      <td>0.823825</td>\n",
       "      <td>0.659873</td>\n",
       "      <td>0.357168</td>\n",
       "      <td>0.620498</td>\n",
       "      <td>0.265807</td>\n",
       "      <td>0.359424</td>\n",
       "      <td>0.207772</td>\n",
       "      <td>0.449107</td>\n",
       "      <td>0.790607</td>\n",
       "      <td>0.540454</td>\n",
       "      <td>0.061107</td>\n",
       "      <td>0.117042</td>\n",
       "      <td>0.300095</td>\n",
       "      <td>0.346726</td>\n",
       "    </tr>\n",
       "    <tr>\n",
       "      <th>1</th>\n",
       "      <td>0.384289</td>\n",
       "      <td>0.066640</td>\n",
       "      <td>0.831452</td>\n",
       "      <td>0.378931</td>\n",
       "      <td>0.067541</td>\n",
       "      <td>0.653380</td>\n",
       "      <td>0.604996</td>\n",
       "      <td>0.316239</td>\n",
       "      <td>0.821480</td>\n",
       "      <td>0.363741</td>\n",
       "      <td>0.637241</td>\n",
       "      <td>0.179462</td>\n",
       "      <td>0.733529</td>\n",
       "      <td>0.106543</td>\n",
       "      <td>0.182755</td>\n",
       "      <td>0.719828</td>\n",
       "      <td>0.291171</td>\n",
       "      <td>0.628923</td>\n",
       "    </tr>\n",
       "    <tr>\n",
       "      <th>2</th>\n",
       "      <td>0.714896</td>\n",
       "      <td>0.994184</td>\n",
       "      <td>0.961700</td>\n",
       "      <td>0.408498</td>\n",
       "      <td>0.109999</td>\n",
       "      <td>0.397716</td>\n",
       "      <td>0.919232</td>\n",
       "      <td>0.036880</td>\n",
       "      <td>0.687869</td>\n",
       "      <td>0.177036</td>\n",
       "      <td>0.708760</td>\n",
       "      <td>0.522732</td>\n",
       "      <td>0.387159</td>\n",
       "      <td>0.540464</td>\n",
       "      <td>0.631843</td>\n",
       "      <td>0.596958</td>\n",
       "      <td>0.753865</td>\n",
       "      <td>0.456254</td>\n",
       "    </tr>\n",
       "    <tr>\n",
       "      <th>3</th>\n",
       "      <td>0.654557</td>\n",
       "      <td>0.923313</td>\n",
       "      <td>0.913113</td>\n",
       "      <td>0.423568</td>\n",
       "      <td>0.386911</td>\n",
       "      <td>0.267413</td>\n",
       "      <td>0.048419</td>\n",
       "      <td>0.616982</td>\n",
       "      <td>0.024739</td>\n",
       "      <td>0.457064</td>\n",
       "      <td>0.309357</td>\n",
       "      <td>0.569780</td>\n",
       "      <td>0.356678</td>\n",
       "      <td>0.622107</td>\n",
       "      <td>0.663930</td>\n",
       "      <td>0.549415</td>\n",
       "      <td>0.868343</td>\n",
       "      <td>0.120479</td>\n",
       "    </tr>\n",
       "    <tr>\n",
       "      <th>4</th>\n",
       "      <td>0.891430</td>\n",
       "      <td>0.459317</td>\n",
       "      <td>0.980282</td>\n",
       "      <td>0.029994</td>\n",
       "      <td>0.828379</td>\n",
       "      <td>0.272915</td>\n",
       "      <td>0.821909</td>\n",
       "      <td>0.094424</td>\n",
       "      <td>0.447250</td>\n",
       "      <td>0.498684</td>\n",
       "      <td>0.010852</td>\n",
       "      <td>0.415361</td>\n",
       "      <td>0.766249</td>\n",
       "      <td>0.677473</td>\n",
       "      <td>0.648100</td>\n",
       "      <td>0.677259</td>\n",
       "      <td>0.317236</td>\n",
       "      <td>0.041473</td>\n",
       "    </tr>\n",
       "  </tbody>\n",
       "</table>\n",
       "</div>"
      ],
      "text/plain": [
       "       fizz                                                        bazz  \\\n",
       "          0         1         2         3         4         5         0   \n",
       "0  0.472276  0.332820  0.592198  0.695907  0.823825  0.659873  0.357168   \n",
       "1  0.384289  0.066640  0.831452  0.378931  0.067541  0.653380  0.604996   \n",
       "2  0.714896  0.994184  0.961700  0.408498  0.109999  0.397716  0.919232   \n",
       "3  0.654557  0.923313  0.913113  0.423568  0.386911  0.267413  0.048419   \n",
       "4  0.891430  0.459317  0.980282  0.029994  0.828379  0.272915  0.821909   \n",
       "\n",
       "                                                         flip            \\\n",
       "          1         2         3         4         5         0         1   \n",
       "0  0.620498  0.265807  0.359424  0.207772  0.449107  0.790607  0.540454   \n",
       "1  0.316239  0.821480  0.363741  0.637241  0.179462  0.733529  0.106543   \n",
       "2  0.036880  0.687869  0.177036  0.708760  0.522732  0.387159  0.540464   \n",
       "3  0.616982  0.024739  0.457064  0.309357  0.569780  0.356678  0.622107   \n",
       "4  0.094424  0.447250  0.498684  0.010852  0.415361  0.766249  0.677473   \n",
       "\n",
       "                                           \n",
       "          2         3         4         5  \n",
       "0  0.061107  0.117042  0.300095  0.346726  \n",
       "1  0.182755  0.719828  0.291171  0.628923  \n",
       "2  0.631843  0.596958  0.753865  0.456254  \n",
       "3  0.663930  0.549415  0.868343  0.120479  \n",
       "4  0.648100  0.677259  0.317236  0.041473  "
      ]
     },
     "execution_count": 54,
     "metadata": {},
     "output_type": "execute_result"
    }
   ],
   "source": [
    "df1 = pd.DataFrame(np.random.rand(1000,6))\n",
    "df2 = pd.DataFrame(np.random.rand(1000,6))\n",
    "df3 = pd.DataFrame(np.random.rand(1000,6))\n",
    "\n",
    "%timeit dfd = pd.concat([df1,df2,df3],axis=1,keys=[\"fizz\",\"bazz\",\"flip\"])\n",
    "\n",
    "dfd = pd.concat([df1,df2,df3],axis=1,keys=[\"fizz\",\"bazz\",\"flip\"])\n",
    "dfd.head()"
   ]
  },
  {
   "cell_type": "code",
   "execution_count": 52,
   "id": "818d7bec",
   "metadata": {},
   "outputs": [
    {
     "name": "stdout",
     "output_type": "stream",
     "text": [
      "555 µs ± 2 µs per loop (mean ± std. dev. of 7 runs, 1000 loops each)\n"
     ]
    }
   ],
   "source": [
    "cols1 = pd.MultiIndex.from_product([[\"One\"],range(6)],names=[\"First\",\"Second\"])\n",
    "df1 = pd.DataFrame(np.random.rand(1000,6),columns=cols1)\n",
    "cols2 = pd.MultiIndex.from_product([[\"Two\"],range(6)],names=[\"First\",\"Second\"])\n",
    "df2 = pd.DataFrame(np.random.rand(1000,6),columns=cols2)\n",
    "cols3 = pd.MultiIndex.from_product([[\"Three\"],range(6)],names=[\"First\",\"Second\"])\n",
    "df3 = pd.DataFrame(np.random.rand(1000,6),columns=cols3)\n",
    "\n",
    "%timeit dfd = pd.concat([df1,df2,df3],axis=1)"
   ]
  },
  {
   "cell_type": "markdown",
   "id": "58ed84a3",
   "metadata": {},
   "source": [
    "### Tryout Dask for Opening Lots of CSVs and stitching them together"
   ]
  },
  {
   "cell_type": "markdown",
   "id": "ef2b3dca",
   "metadata": {},
   "source": [
    "Doesn't work directly because Dask assumes all the CSVs are continuations of the same columns, whereas the data I have are separate columns.  \n",
    "Notice that the extra features in the quad and sextupole files have been cut out because they did not appear in the first file, which was S10A:H1.csv, a horizontal corrector.\n",
    "\n",
    "Futhermore, Dask doesn't allow multiline headers in CSV files, so it imports the units as the first row. "
   ]
  },
  {
   "cell_type": "code",
   "execution_count": 38,
   "id": "3a4fc861",
   "metadata": {},
   "outputs": [
    {
     "data": {
      "text/html": [
       "<div>\n",
       "<style scoped>\n",
       "    .dataframe tbody tr th:only-of-type {\n",
       "        vertical-align: middle;\n",
       "    }\n",
       "\n",
       "    .dataframe tbody tr th {\n",
       "        vertical-align: top;\n",
       "    }\n",
       "\n",
       "    .dataframe thead th {\n",
       "        text-align: right;\n",
       "    }\n",
       "</style>\n",
       "<table border=\"1\" class=\"dataframe\">\n",
       "  <thead>\n",
       "    <tr style=\"text-align: right;\">\n",
       "      <th></th>\n",
       "      <th>Time</th>\n",
       "      <th>CAerrors</th>\n",
       "      <th>S10A:H1:CapTempAI</th>\n",
       "      <th>S10A:H1:CurrentAI</th>\n",
       "      <th>S10A:H1:MagTempAI</th>\n",
       "      <th>S10A:H1:PeakAbsDevAI</th>\n",
       "    </tr>\n",
       "  </thead>\n",
       "  <tbody>\n",
       "    <tr>\n",
       "      <th>0</th>\n",
       "      <td>s</td>\n",
       "      <td>NaN</td>\n",
       "      <td>Deg C</td>\n",
       "      <td>Amps</td>\n",
       "      <td>Deg C</td>\n",
       "      <td>Amps</td>\n",
       "    </tr>\n",
       "    <tr>\n",
       "      <th>1</th>\n",
       "      <td>1.549410496000000e+09</td>\n",
       "      <td>0.0</td>\n",
       "      <td>2.9792428970e+01</td>\n",
       "      <td>-1.3616879272e+02</td>\n",
       "      <td>2.5030525208e+01</td>\n",
       "      <td>2.0457183942e-02</td>\n",
       "    </tr>\n",
       "    <tr>\n",
       "      <th>2</th>\n",
       "      <td>1.549410560000000e+09</td>\n",
       "      <td>0.0</td>\n",
       "      <td>2.9792428970e+01</td>\n",
       "      <td>-1.3615959167e+02</td>\n",
       "      <td>2.5054944992e+01</td>\n",
       "      <td>2.0457183942e-02</td>\n",
       "    </tr>\n",
       "    <tr>\n",
       "      <th>3</th>\n",
       "      <td>1.549410624000000e+09</td>\n",
       "      <td>0.0</td>\n",
       "      <td>2.9743589401e+01</td>\n",
       "      <td>-1.3615959167e+02</td>\n",
       "      <td>2.5006105423e+01</td>\n",
       "      <td>2.0457183942e-02</td>\n",
       "    </tr>\n",
       "    <tr>\n",
       "      <th>4</th>\n",
       "      <td>1.549410688000000e+09</td>\n",
       "      <td>0.0</td>\n",
       "      <td>2.9841270447e+01</td>\n",
       "      <td>-1.3615959167e+02</td>\n",
       "      <td>2.5030525208e+01</td>\n",
       "      <td>2.0457183942e-02</td>\n",
       "    </tr>\n",
       "  </tbody>\n",
       "</table>\n",
       "</div>"
      ],
      "text/plain": [
       "                    Time  CAerrors S10A:H1:CapTempAI  S10A:H1:CurrentAI  \\\n",
       "0                      s       NaN             Deg C               Amps   \n",
       "1  1.549410496000000e+09       0.0  2.9792428970e+01  -1.3616879272e+02   \n",
       "2  1.549410560000000e+09       0.0  2.9792428970e+01  -1.3615959167e+02   \n",
       "3  1.549410624000000e+09       0.0  2.9743589401e+01  -1.3615959167e+02   \n",
       "4  1.549410688000000e+09       0.0  2.9841270447e+01  -1.3615959167e+02   \n",
       "\n",
       "  S10A:H1:MagTempAI S10A:H1:PeakAbsDevAI  \n",
       "0             Deg C                 Amps  \n",
       "1  2.5030525208e+01     2.0457183942e-02  \n",
       "2  2.5054944992e+01     2.0457183942e-02  \n",
       "3  2.5006105423e+01     2.0457183942e-02  \n",
       "4  2.5030525208e+01     2.0457183942e-02  "
      ]
     },
     "execution_count": 38,
     "metadata": {},
     "output_type": "execute_result"
    }
   ],
   "source": [
    "dfd = dd.read_csv(os.path.join(datapath,'*.csv'))\n",
    "dfd.head()"
   ]
  },
  {
   "cell_type": "markdown",
   "id": "2d4b4968",
   "metadata": {},
   "source": [
    "### Try to MultiIndex a Dask Dataframe - Works!"
   ]
  },
  {
   "cell_type": "code",
   "execution_count": 123,
   "id": "5ee38808",
   "metadata": {},
   "outputs": [],
   "source": [
    "dfd = dd.read_csv(os.path.join(datapath,'S9A:Q3.csv'))\n",
    "units = dfd.loc['0',:].compute().fillna('None').values[0]\n",
    "dfd = dfd[dfd['Time'] != 's'] # slow, but the only way possible to drop the first row in Dask\n",
    "colnames = dfd.columns.values\n",
    "dfd.columns = pd.MultiIndex.from_arrays([colnames,units])"
   ]
  },
  {
   "cell_type": "code",
   "execution_count": 120,
   "id": "803b45dc",
   "metadata": {
    "scrolled": true
   },
   "outputs": [
    {
     "data": {
      "text/html": [
       "<div>\n",
       "<style scoped>\n",
       "    .dataframe tbody tr th:only-of-type {\n",
       "        vertical-align: middle;\n",
       "    }\n",
       "\n",
       "    .dataframe tbody tr th {\n",
       "        vertical-align: top;\n",
       "    }\n",
       "\n",
       "    .dataframe thead tr th {\n",
       "        text-align: left;\n",
       "    }\n",
       "</style>\n",
       "<table border=\"1\" class=\"dataframe\">\n",
       "  <thead>\n",
       "    <tr>\n",
       "      <th></th>\n",
       "      <th>Time</th>\n",
       "      <th>CAerrors</th>\n",
       "      <th>S9A:Q3:CapTempAI</th>\n",
       "      <th>S9A:Q3:CurrentAI</th>\n",
       "      <th>S9A:Q3:DacAI</th>\n",
       "      <th>S9A:Q3:IGBTTempAI</th>\n",
       "      <th>S9A:Q3:MagTempAI</th>\n",
       "      <th>S9A:Q3:OutVoltageAI</th>\n",
       "      <th>S9A:Q3:PeakAbsDevAI</th>\n",
       "    </tr>\n",
       "    <tr>\n",
       "      <th></th>\n",
       "      <th>s</th>\n",
       "      <th>None</th>\n",
       "      <th>Deg C</th>\n",
       "      <th>Amps</th>\n",
       "      <th>Amps</th>\n",
       "      <th>Deg C</th>\n",
       "      <th>Deg C</th>\n",
       "      <th>Volts</th>\n",
       "      <th>Amps</th>\n",
       "    </tr>\n",
       "  </thead>\n",
       "  <tbody>\n",
       "    <tr>\n",
       "      <th>1</th>\n",
       "      <td>1.549410496000000e+09</td>\n",
       "      <td>0.0</td>\n",
       "      <td>3.3821735382e+01</td>\n",
       "      <td>3.1434289551e+02</td>\n",
       "      <td>3.1434347534e+02</td>\n",
       "      <td>3.3797313690e+01</td>\n",
       "      <td>2.5616605759e+01</td>\n",
       "      <td>9.3772897720e+00</td>\n",
       "      <td>1.3353018090e-02</td>\n",
       "    </tr>\n",
       "    <tr>\n",
       "      <th>2</th>\n",
       "      <td>1.549410560000000e+09</td>\n",
       "      <td>0.0</td>\n",
       "      <td>3.3772891998e+01</td>\n",
       "      <td>3.1435052490e+02</td>\n",
       "      <td>3.1434347534e+02</td>\n",
       "      <td>3.3894992828e+01</td>\n",
       "      <td>2.5567766190e+01</td>\n",
       "      <td>9.4505491257e+00</td>\n",
       "      <td>1.3353018090e-02</td>\n",
       "    </tr>\n",
       "    <tr>\n",
       "      <th>3</th>\n",
       "      <td>1.549410624000000e+09</td>\n",
       "      <td>0.0</td>\n",
       "      <td>3.3870574951e+01</td>\n",
       "      <td>3.1434289551e+02</td>\n",
       "      <td>3.1434347534e+02</td>\n",
       "      <td>3.3772891998e+01</td>\n",
       "      <td>2.5372406006e+01</td>\n",
       "      <td>9.3528690338e+00</td>\n",
       "      <td>1.3353018090e-02</td>\n",
       "    </tr>\n",
       "    <tr>\n",
       "      <th>4</th>\n",
       "      <td>1.549410688000000e+09</td>\n",
       "      <td>0.0</td>\n",
       "      <td>3.3772891998e+01</td>\n",
       "      <td>3.1434289551e+02</td>\n",
       "      <td>3.1434347534e+02</td>\n",
       "      <td>3.3748474121e+01</td>\n",
       "      <td>2.5592185974e+01</td>\n",
       "      <td>9.4261293411e+00</td>\n",
       "      <td>1.3353018090e-02</td>\n",
       "    </tr>\n",
       "    <tr>\n",
       "      <th>5</th>\n",
       "      <td>1.549410752000000e+09</td>\n",
       "      <td>0.0</td>\n",
       "      <td>3.3772891998e+01</td>\n",
       "      <td>3.1434289551e+02</td>\n",
       "      <td>3.1434347534e+02</td>\n",
       "      <td>3.3797313690e+01</td>\n",
       "      <td>2.5641025543e+01</td>\n",
       "      <td>9.4261293411e+00</td>\n",
       "      <td>1.3353018090e-02</td>\n",
       "    </tr>\n",
       "  </tbody>\n",
       "</table>\n",
       "</div>"
      ],
      "text/plain": [
       "                    Time CAerrors  S9A:Q3:CapTempAI  S9A:Q3:CurrentAI  \\\n",
       "                       s     None             Deg C              Amps   \n",
       "1  1.549410496000000e+09      0.0  3.3821735382e+01  3.1434289551e+02   \n",
       "2  1.549410560000000e+09      0.0  3.3772891998e+01  3.1435052490e+02   \n",
       "3  1.549410624000000e+09      0.0  3.3870574951e+01  3.1434289551e+02   \n",
       "4  1.549410688000000e+09      0.0  3.3772891998e+01  3.1434289551e+02   \n",
       "5  1.549410752000000e+09      0.0  3.3772891998e+01  3.1434289551e+02   \n",
       "\n",
       "       S9A:Q3:DacAI S9A:Q3:IGBTTempAI  S9A:Q3:MagTempAI S9A:Q3:OutVoltageAI  \\\n",
       "               Amps             Deg C             Deg C               Volts   \n",
       "1  3.1434347534e+02  3.3797313690e+01  2.5616605759e+01    9.3772897720e+00   \n",
       "2  3.1434347534e+02  3.3894992828e+01  2.5567766190e+01    9.4505491257e+00   \n",
       "3  3.1434347534e+02  3.3772891998e+01  2.5372406006e+01    9.3528690338e+00   \n",
       "4  3.1434347534e+02  3.3748474121e+01  2.5592185974e+01    9.4261293411e+00   \n",
       "5  3.1434347534e+02  3.3797313690e+01  2.5641025543e+01    9.4261293411e+00   \n",
       "\n",
       "  S9A:Q3:PeakAbsDevAI  \n",
       "                 Amps  \n",
       "1    1.3353018090e-02  \n",
       "2    1.3353018090e-02  \n",
       "3    1.3353018090e-02  \n",
       "4    1.3353018090e-02  \n",
       "5    1.3353018090e-02  "
      ]
     },
     "execution_count": 120,
     "metadata": {},
     "output_type": "execute_result"
    }
   ],
   "source": [
    "dfd.head()"
   ]
  },
  {
   "cell_type": "markdown",
   "id": "01ba2e97",
   "metadata": {},
   "source": [
    "### OK, read in each CSV as a pandas dataframe, convert to dask, concat them"
   ]
  },
  {
   "cell_type": "code",
   "execution_count": 142,
   "id": "635df84e",
   "metadata": {},
   "outputs": [
    {
     "data": {
      "text/plain": [
       "MultiIndex([('test',                'Time',     's'),\n",
       "            ('test',            'CAerrors',  'None'),\n",
       "            ('test',    'S9A:Q3:CapTempAI', 'Deg C'),\n",
       "            ('test',    'S9A:Q3:CurrentAI',  'Amps'),\n",
       "            ('test',        'S9A:Q3:DacAI',  'Amps'),\n",
       "            ('test',   'S9A:Q3:IGBTTempAI', 'Deg C'),\n",
       "            ('test',    'S9A:Q3:MagTempAI', 'Deg C'),\n",
       "            ('test', 'S9A:Q3:OutVoltageAI', 'Volts'),\n",
       "            ('test', 'S9A:Q3:PeakAbsDevAI',  'Amps')],\n",
       "           )"
      ]
     },
     "execution_count": 142,
     "metadata": {},
     "output_type": "execute_result"
    }
   ],
   "source": [
    "pd.MultiIndex.from_tuples(list(zip(*[[\"test\"]*len(units),colnames,units]))) # multiindex testing"
   ]
  },
  {
   "cell_type": "code",
   "execution_count": 204,
   "id": "47626080",
   "metadata": {},
   "outputs": [],
   "source": [
    "def pandasOpenCSV(filename,run=None,scenario=None):\n",
    "    \"\"\"\n",
    "    Opens a CSV using the Dask framework and MultiIndexes the columns.\n",
    "    \"\"\"\n",
    "    df = pd.read_csv(filename,header=[0,1])\n",
    "    cols = df.columns.values\n",
    "    names = []\n",
    "    units = []\n",
    "    for x in cols:\n",
    "        if x[0] == 'CAerrors': # special case\n",
    "            units.append('None')\n",
    "        else:\n",
    "            units.append(x[1])\n",
    "        # I can't find a way around the repeating that follows\n",
    "        nome = x[0].split(':')\n",
    "        if len(nome) == 3:\n",
    "            sector = nome[0]\n",
    "            magnet = nome[1]\n",
    "            names.append(nome[2])\n",
    "        else:\n",
    "            names.append(x[0])\n",
    "    n_cols = len(cols)\n",
    "    \n",
    "    if not run: # user did not give a run name\n",
    "        run = 'Run'\n",
    "    if not scenario: # user did not give a scenario name\n",
    "        scenario = 'Scenario'\n",
    "    \n",
    "    ci = zip(*[[run]*n_cols,\n",
    "               [scenario]*n_cols,\n",
    "               [sector]*n_cols,\n",
    "               [magnet]*n_cols,\n",
    "               colnames,\n",
    "               units])\n",
    "    mi = pd.MultiIndex.from_tuples(list(ci))\n",
    "    \n",
    "    df.columns = mi # create the full multiindex columns\n",
    "    return df\n",
    "\n",
    "def collateScenario(directory):\n",
    "    \"\"\"\n",
    "    Collates all the CSV files from a single directory using dask.\n",
    "    \"\"\"\n",
    "    pass\n",
    "    "
   ]
  },
  {
   "cell_type": "code",
   "execution_count": 205,
   "id": "c04e9a83",
   "metadata": {
    "scrolled": false
   },
   "outputs": [],
   "source": [
    "df = pandasOpenCSV(os.path.join(datapath,'S9A:Q3.csv'))"
   ]
  },
  {
   "cell_type": "code",
   "execution_count": 207,
   "id": "cdba2658",
   "metadata": {
    "scrolled": false
   },
   "outputs": [
    {
     "data": {
      "text/html": [
       "<div>\n",
       "<style scoped>\n",
       "    .dataframe tbody tr th:only-of-type {\n",
       "        vertical-align: middle;\n",
       "    }\n",
       "\n",
       "    .dataframe tbody tr th {\n",
       "        vertical-align: top;\n",
       "    }\n",
       "\n",
       "    .dataframe thead tr th {\n",
       "        text-align: left;\n",
       "    }\n",
       "</style>\n",
       "<table border=\"1\" class=\"dataframe\">\n",
       "  <thead>\n",
       "    <tr>\n",
       "      <th></th>\n",
       "      <th colspan=\"9\" halign=\"left\">Run</th>\n",
       "    </tr>\n",
       "    <tr>\n",
       "      <th></th>\n",
       "      <th colspan=\"9\" halign=\"left\">Scenario</th>\n",
       "    </tr>\n",
       "    <tr>\n",
       "      <th></th>\n",
       "      <th colspan=\"9\" halign=\"left\">S9A</th>\n",
       "    </tr>\n",
       "    <tr>\n",
       "      <th></th>\n",
       "      <th colspan=\"9\" halign=\"left\">Q3</th>\n",
       "    </tr>\n",
       "    <tr>\n",
       "      <th></th>\n",
       "      <th>Time</th>\n",
       "      <th>CAerrors</th>\n",
       "      <th>S9A:Q3:CapTempAI</th>\n",
       "      <th>S9A:Q3:CurrentAI</th>\n",
       "      <th>S9A:Q3:DacAI</th>\n",
       "      <th>S9A:Q3:IGBTTempAI</th>\n",
       "      <th>S9A:Q3:MagTempAI</th>\n",
       "      <th>S9A:Q3:OutVoltageAI</th>\n",
       "      <th>S9A:Q3:PeakAbsDevAI</th>\n",
       "    </tr>\n",
       "    <tr>\n",
       "      <th></th>\n",
       "      <th>s</th>\n",
       "      <th>None</th>\n",
       "      <th>Deg C</th>\n",
       "      <th>Amps</th>\n",
       "      <th>Amps</th>\n",
       "      <th>Deg C</th>\n",
       "      <th>Deg C</th>\n",
       "      <th>Volts</th>\n",
       "      <th>Amps</th>\n",
       "    </tr>\n",
       "  </thead>\n",
       "  <tbody>\n",
       "    <tr>\n",
       "      <th>0</th>\n",
       "      <td>1.549410e+09</td>\n",
       "      <td>0</td>\n",
       "      <td>33.821735</td>\n",
       "      <td>314.342896</td>\n",
       "      <td>314.343475</td>\n",
       "      <td>33.797314</td>\n",
       "      <td>25.616606</td>\n",
       "      <td>9.377290</td>\n",
       "      <td>0.013353</td>\n",
       "    </tr>\n",
       "    <tr>\n",
       "      <th>1</th>\n",
       "      <td>1.549411e+09</td>\n",
       "      <td>0</td>\n",
       "      <td>33.772892</td>\n",
       "      <td>314.350525</td>\n",
       "      <td>314.343475</td>\n",
       "      <td>33.894993</td>\n",
       "      <td>25.567766</td>\n",
       "      <td>9.450549</td>\n",
       "      <td>0.013353</td>\n",
       "    </tr>\n",
       "    <tr>\n",
       "      <th>2</th>\n",
       "      <td>1.549411e+09</td>\n",
       "      <td>0</td>\n",
       "      <td>33.870575</td>\n",
       "      <td>314.342896</td>\n",
       "      <td>314.343475</td>\n",
       "      <td>33.772892</td>\n",
       "      <td>25.372406</td>\n",
       "      <td>9.352869</td>\n",
       "      <td>0.013353</td>\n",
       "    </tr>\n",
       "    <tr>\n",
       "      <th>3</th>\n",
       "      <td>1.549411e+09</td>\n",
       "      <td>0</td>\n",
       "      <td>33.772892</td>\n",
       "      <td>314.342896</td>\n",
       "      <td>314.343475</td>\n",
       "      <td>33.748474</td>\n",
       "      <td>25.592186</td>\n",
       "      <td>9.426129</td>\n",
       "      <td>0.013353</td>\n",
       "    </tr>\n",
       "    <tr>\n",
       "      <th>4</th>\n",
       "      <td>1.549411e+09</td>\n",
       "      <td>0</td>\n",
       "      <td>33.772892</td>\n",
       "      <td>314.342896</td>\n",
       "      <td>314.343475</td>\n",
       "      <td>33.797314</td>\n",
       "      <td>25.641026</td>\n",
       "      <td>9.426129</td>\n",
       "      <td>0.013353</td>\n",
       "    </tr>\n",
       "  </tbody>\n",
       "</table>\n",
       "</div>"
      ],
      "text/plain": [
       "            Run                                                          \\\n",
       "       Scenario                                                           \n",
       "            S9A                                                           \n",
       "             Q3                                                           \n",
       "           Time CAerrors S9A:Q3:CapTempAI S9A:Q3:CurrentAI S9A:Q3:DacAI   \n",
       "              s     None            Deg C             Amps         Amps   \n",
       "0  1.549410e+09        0        33.821735       314.342896   314.343475   \n",
       "1  1.549411e+09        0        33.772892       314.350525   314.343475   \n",
       "2  1.549411e+09        0        33.870575       314.342896   314.343475   \n",
       "3  1.549411e+09        0        33.772892       314.342896   314.343475   \n",
       "4  1.549411e+09        0        33.772892       314.342896   314.343475   \n",
       "\n",
       "                                                                              \n",
       "                                                                              \n",
       "                                                                              \n",
       "                                                                              \n",
       "  S9A:Q3:IGBTTempAI S9A:Q3:MagTempAI S9A:Q3:OutVoltageAI S9A:Q3:PeakAbsDevAI  \n",
       "              Deg C            Deg C               Volts                Amps  \n",
       "0         33.797314        25.616606            9.377290            0.013353  \n",
       "1         33.894993        25.567766            9.450549            0.013353  \n",
       "2         33.772892        25.372406            9.352869            0.013353  \n",
       "3         33.748474        25.592186            9.426129            0.013353  \n",
       "4         33.797314        25.641026            9.426129            0.013353  "
      ]
     },
     "execution_count": 207,
     "metadata": {},
     "output_type": "execute_result"
    }
   ],
   "source": [
    "df.head()"
   ]
  },
  {
   "cell_type": "markdown",
   "id": "1ca7609e",
   "metadata": {},
   "source": [
    "### Figure out which scenarios have pathological data"
   ]
  },
  {
   "cell_type": "code",
   "execution_count": 12,
   "id": "de8ad2cd",
   "metadata": {
    "scrolled": false
   },
   "outputs": [
    {
     "name": "stdout",
     "output_type": "stream",
     "text": [
      "Run2014-2/2014-08-11-10:19:00\n",
      "Run2014-2/2014-07-19-16:54:00\n",
      "Run2014-2/referenceData\n",
      "Run2014-2/2014-08-11-14:20:00\n",
      "Run2014-2/2014-06-12-16:27:00\n",
      "Run2014-3/2014-10-07-04:58:00\n",
      "Run2014-3/referenceData\n",
      "Run2015-2/referenceData\n",
      "Run2015-2/2015-07-09-23:59:00\n",
      "Run2015-3/2015-10-28-12:52:00\n",
      "Run2015-3/referenceData\n",
      "Run2016-1/2016-04-08-19:02:00\n",
      "Run2016-1/2016-03-07-16:31:00\n",
      "Run2016-1/referenceData\n",
      "Run2019-1/2019-02-28-11:35:00\n",
      "Run2019-1/2019-02-15-06:21:00\n",
      "Run2019-1/2019-02-08-02:42:00\n",
      "Run2019-1/referenceData\n",
      "Run2019-1/2019-02-15-02:59:00\n",
      "Run2018-3/referenceData\n",
      "Run2018-3/2018-11-09-16:18:00\n",
      "Run2018-3/2018-10-10-05:02:00\n",
      "Run2016-3/2016-10-08-10:42:00\n",
      "Run2016-3/2016-10-10-01:14:00\n",
      "Run2016-3/2016-10-09-13:31:00\n",
      "Run2016-3/2016-12-02-14:14:00\n",
      "Run2016-3/2016-10-20-23:29:00\n",
      "Run2016-3/referenceData\n",
      "Run2016-3/2016-10-20-05:06:00\n",
      "Run2016-2/2016-06-01-20:26:00\n",
      "Run2016-2/2016-08-20-10:21:00\n",
      "Run2016-2/2016-06-15-08:46:00\n",
      "Run2016-2/referenceData\n",
      "Run2016-2/2016-08-19-08:26:00\n",
      "Run2018-2/2018-06-28-19:01:00\n",
      "Run2018-2/2018-06-01-06:14:00\n",
      "Run2018-2/2018-07-08-02:57:00\n",
      "Run2018-2/2018-07-30-04:48:00\n",
      "Run2018-2/referenceData\n",
      "Run2018-2/2018-07-15-09:02:00\n",
      "Run2015-1/2015-02-21-10:47:00\n",
      "Run2015-1/2015-04-12-21:16:00\n",
      "Run2015-1/referenceData\n",
      "Run2015-1/2015-02-27-23:36:00\n",
      "Run2013-2/2013-07-03-05:25:00\n",
      "Run2013-2/2013-06-07-21:34:00\n",
      "Run2013-2/2013-06-27-15:14:00\n",
      "Run2013-2/referenceData\n",
      "Run2019-2/2019-07-18-15:51:00\n",
      "Run2019-2/2019-06-30-22:42:00\n",
      "Run2019-2/referenceData\n",
      "Run2017-1/2017-03-10-08:34:00\n",
      "Run2017-1/2017-04-03-02:47:00\n",
      "Run2017-1/referenceData\n",
      "Run2017-3/2017-10-03-21:41:00\n",
      "Run2017-3/2017-10-15-12:00:00\n",
      "Run2017-3/referenceData\n",
      "Run2019-3/referenceData\n",
      "Run2019-3/2019-10-22-15:29:00\n",
      "Run2019-3/2019-10-13-21:47:00\n",
      "Run2018-1/2018-03-24-20:17:00\n",
      "Run2018-1/2018-03-02-21:29:00\n",
      "Run2018-1/referenceData\n",
      "Run2018-1/2018-03-12-04:08:00\n",
      "Run2017-2/2017-06-22-18:54:00\n",
      "Run2017-2/2017-07-25-09:07:00\n",
      "Run2017-2/referenceData\n",
      "Run2014-1/2014-02-12-22:46:00\n",
      "Run2014-1/referenceData\n",
      "Run2014-1/2014-02-27-02:35:00\n",
      "Run2014-1/2014-02-13-13:46:00\n"
     ]
    }
   ],
   "source": [
    "for fn in os.listdir(datapointer):\n",
    "    path = os.path.join(datapointer,fn)\n",
    "    if os.path.isdir(path):\n",
    "        for gn in os.listdir(path):\n",
    "            gath = os.path.join(path,gn)\n",
    "            if os.path.isdir(gath):\n",
    "                hath = os.path.join(gath,'S1A:H3.csv') # arbitrary file\n",
    "                try:\n",
    "                    print(\"{:s}/{:s}\".format(fn,gn))\n",
    "                    csv = pd.read_csv(hath,header=[0,1],dtype='float')\n",
    "                except ValueError: # pathological data\n",
    "                    print(\"pathological data found in: {:s}/{:s}\".format(fn,gn))\n",
    "                    \n",
    "# print('special cases:')\n",
    "# try:\n",
    "#     special_case = \"/sdf/home/f/foshea/bes_anomalies/temp_scenario/S1A:H3.csv\"\n",
    "#     csv = pd.read_csv(special_case,header=[0,1],dtype='float')\n",
    "# except ValueError: # pathological data\n",
    "#     print(\"pathological data found in: {:s}\".format(special_case))\n",
    "\n",
    "# try:\n",
    "#     special_case = \"/sdf/home/f/foshea/bes_anomalies/temp_scenario_2/S1A:H3.csv\"\n",
    "#     csv = pd.read_csv(special_case,header=[0,1],dtype='float')\n",
    "# except ValueError: # pathological data\n",
    "#     print(\"pathological data found in: {:s}\".format(special_case))\n",
    "                    "
   ]
  },
  {
   "cell_type": "markdown",
   "id": "4fc89106",
   "metadata": {},
   "source": [
    "### Create an HDF5 file with all the data in it"
   ]
  },
  {
   "cell_type": "markdown",
   "id": "3d0af435",
   "metadata": {},
   "source": [
    "Run the first cell here to do the conversion - it took about 70 minutes on a single server with 4 GB of memory.  \n",
    "The input data was 40 GB.\n",
    "\n",
    "The other cells are for diagnosing problems."
   ]
  },
  {
   "cell_type": "code",
   "execution_count": 4,
   "id": "ce776a5d",
   "metadata": {},
   "outputs": [
    {
     "name": "stdout",
     "output_type": "stream",
     "text": [
      "1h 21min 1s ± 0 ns per loop (mean ± std. dev. of 1 run, 1 loop each)\n"
     ]
    }
   ],
   "source": [
    "%%timeit -n1 -r1\n",
    "aps = APSDataCollector(datapointer,'/sdf/group/ml/datasets/bes_anomaly_data/PSTrips-2020-01-13_ver2.h5')\n",
    "aps.createGroupStructure()"
   ]
  },
  {
   "cell_type": "code",
   "execution_count": 45,
   "id": "9500ccf4",
   "metadata": {},
   "outputs": [
    {
     "name": "stdout",
     "output_type": "stream",
     "text": [
      "badMagnet  ::  V3\n",
      "badSector  ::  S13A\n",
      "dirName  ::  Run2019-3/2019-10-13-21:47:00\n",
      "endDate  ::  2019/10/13\n",
      "endTime  ::  21:47:00\n",
      "path  ::  /sdf/group/ml/datasets/bes_anomaly_data/PSTrips-2020-01-13/Run2019-3/2019-10-13-21:47:00\n",
      "run  ::  Run2019-3\n",
      "startDate  ::  2019/10/11\n",
      "startTime  ::  08:01:00\n"
     ]
    }
   ],
   "source": [
    "t = h5py.File('/sdf/home/f/foshea/bes_anomalies/PSTrips-2020-01-13.h5','r')\n",
    "for k,v in t['run2019-3/2019-10-13-21:47:00'.lower()].attrs.items():\n",
    "    print(k,' :: ',v)\n",
    "t.close()"
   ]
  },
  {
   "cell_type": "code",
   "execution_count": 50,
   "id": "6e75e253",
   "metadata": {},
   "outputs": [
    {
     "name": "stdout",
     "output_type": "stream",
     "text": [
      "45.5 s ± 0 ns per loop (mean ± std. dev. of 1 run, 1 loop each)\n"
     ]
    }
   ],
   "source": [
    "%%timeit -n1 -r1\n",
    "\n",
    "with h5py.File('test.h5','w') as t:\n",
    "    filepointer = '/sdf/group/ml/datasets/bes_anomaly_data/PSTrips-2020-01-13/Run2019-1/2019-02-08-02:42:00'\n",
    "    aps.addMagnetData(filepointer,t)"
   ]
  },
  {
   "cell_type": "code",
   "execution_count": 4,
   "id": "86623321",
   "metadata": {},
   "outputs": [
    {
     "name": "stdout",
     "output_type": "stream",
     "text": [
      "80\n"
     ]
    }
   ],
   "source": [
    "with h5py.File('test_2.h5','r') as t:\n",
    "    pass\n",
    "t = h5py.File('test_2.h5','r')\n",
    "sectors = len(t.keys())\n",
    "print(sectors)\n",
    "t.close()"
   ]
  },
  {
   "cell_type": "code",
   "execution_count": 14,
   "id": "ff335934",
   "metadata": {
    "scrolled": true
   },
   "outputs": [],
   "source": [
    "# t = h5py.File('test.h5')\n",
    "\n",
    "\n",
    "def crawlHDF(hdf):\n",
    "    \n",
    "    def countAll(group,sc,mc,fc):\n",
    "        s = 0\n",
    "        m = 0\n",
    "        f = 0\n",
    "        try:\n",
    "            keys = group.keys()\n",
    "        except AttributeError: # its a dataset\n",
    "            keys = []\n",
    "            \n",
    "        if len(keys) == 0: # count the feature\n",
    "            f += 1\n",
    "        else: # group\n",
    "            for key in keys: # count sub elements\n",
    "                a,b,c = countAll(group[key],sc,mc,fc)\n",
    "                s += a\n",
    "                m += b\n",
    "                f += c\n",
    "        # count the current element\n",
    "        # this counts base as a sector, but no matter, you get 81\n",
    "        split_name = group.name.split('/')\n",
    "        if len(split_name) == 2: # sectors are \"two deep\"\n",
    "            s += 1\n",
    "        elif len(split_name) == 3: # magnets are \"three deep\"\n",
    "            m += 1\n",
    "        return sc+s,mc+m,fc+f\n",
    "        \n",
    "    return countAll(hdf,0,0,0)\n",
    "        \n",
    "    \n",
    "def visitor_func(name, node):\n",
    "    if isinstance(node, h5py.Dataset):\n",
    "         # node is a dataset\n",
    "        pass\n",
    "    else:\n",
    "         # node is a group\n",
    "        print(name)\n",
    "# t.visititems(visitor_func)\n",
    "# print(crawlHDF(t))\n",
    "# t.close()\n"
   ]
  },
  {
   "cell_type": "markdown",
   "id": "d46e8770",
   "metadata": {},
   "source": [
    "### The files in directory Run2016-3/2016-12-02-14:14:00 are broken, fix them"
   ]
  },
  {
   "cell_type": "markdown",
   "id": "755c8263",
   "metadata": {},
   "source": [
    "The files in Run2016-3/2016-12-02-14:14:00 have an extra header and units row thrown in the file on lines 7652 and 7653.  The below functions fix this\n",
    "\n",
    "A similar problem was found in Run2019-3/referenceData on lines 3602 and 3603"
   ]
  },
  {
   "cell_type": "code",
   "execution_count": 10,
   "id": "37406667",
   "metadata": {},
   "outputs": [
    {
     "name": "stdout",
     "output_type": "stream",
     "text": [
      "1min 54s ± 0 ns per loop (mean ± std. dev. of 1 run, 1 loop each)\n"
     ]
    }
   ],
   "source": [
    "%%timeit -n1 -r1\n",
    "\n",
    "#baddir = '/sdf/group/ml/datasets/bes_anomaly_data/PSTrips-2020-01-13/Run2016-3/2016-12-02-14:14:00'\n",
    "baddir = '/sdf/group/ml/datasets/bes_anomaly_data/PSTrips-2020-01-13/Run2019-3/referenceData'\n",
    "\n",
    "for filename in os.listdir(baddir):\n",
    "    full_path = os.path.join(baddir,filename)\n",
    "    if filename.split('.')[-1] == 'csv':\n",
    "        csv = pd.read_csv(full_path,header=[0,1])\n",
    "        # trade out for the various files, notice the off-by-three difference due to the header and zero index\n",
    "        #csv.drop(labels=[7649,7650],axis=0,inplace=True) # drop the extra text, Run2016-3\n",
    "        csv.drop(labels=[3599,3600],axis=0,inplace=True) # drop the extra text, Run2019-3\n",
    "        csv.rename(columns={'Unnamed: 1_level_1':''},inplace=True) # make the units for CAerrors blank\n",
    "        try:\n",
    "            csv.to_csv(os.path.join('/sdf/home/f/foshea/bes_anomalies/temp_scenario_2',filename),index=False,float_format='%.15e')\n",
    "        except:\n",
    "            print('{:s} failed to process, what else is wrong with it?'.format(filename))"
   ]
  },
  {
   "cell_type": "code",
   "execution_count": 17,
   "id": "4a290776",
   "metadata": {},
   "outputs": [
    {
     "name": "stdout",
     "output_type": "stream",
     "text": [
      "True\n"
     ]
    }
   ],
   "source": [
    "# make sure they are all the same length\n",
    "checkdir = '/sdf/group/ml/datasets/bes_anomaly_data/PSTrips-2020-01-13/Run2016-3/2016-12-02-14:14:00'\n",
    "checkdir = '/sdf/home/f/foshea/bes_anomalies/temp_scenario'\n",
    "all_good = True\n",
    "for filename in os.listdir(checkdir):\n",
    "    full_path = os.path.join(checkdir,filename)\n",
    "    if filename.split('.')[-1] == 'csv':\n",
    "        csv = pd.read_csv(full_path,header=[0,1])\n",
    "        # trade out for the various files, notice the off-by-two difference due to the header\n",
    "        #if len(csv) != 9765: # Run2016-3\n",
    "        if len(csv) != 8145: # Run2019-3\n",
    "            all_good *= False\n",
    "print(all_good)"
   ]
  },
  {
   "cell_type": "code",
   "execution_count": 23,
   "id": "5c7145ee",
   "metadata": {},
   "outputs": [
    {
     "data": {
      "text/plain": [
       "['Time',\n",
       " 'CAerrors',\n",
       " 'S15B:H4:CapTempAI',\n",
       " 'S15B:H4:CurrentAI',\n",
       " 'S15B:H4:MagTempAI',\n",
       " 'S15B:H4:PeakAbsDevAI']"
      ]
     },
     "execution_count": 23,
     "metadata": {},
     "output_type": "execute_result"
    }
   ],
   "source": [
    "with open(os.path.join(baddir,'S26B:Q3.csv'),'r') as csvfile:\n",
    "    csv = pd.read_csv(full_path,header=[0,1])\n",
    "csv.head()\n",
    "list(csv.columns.get_level_values(0)[1:])"
   ]
  },
  {
   "cell_type": "code",
   "execution_count": 23,
   "id": "e5c2ec2a",
   "metadata": {},
   "outputs": [],
   "source": [
    "csv.columns.set_levels?"
   ]
  },
  {
   "cell_type": "markdown",
   "id": "9dd41632",
   "metadata": {},
   "source": [
    "A giant markdown to keep Jupyter from pushing the information off the screen all the time.\n",
    "\n",
    "\n",
    "\n",
    "\n",
    "\n",
    "\n",
    "\n",
    "\n",
    "\n",
    "\n",
    "\n",
    "\n",
    "\n",
    "\n",
    "\n",
    "\n",
    "\n",
    "\n",
    "\n",
    "\n",
    "\n",
    "\n",
    "\n",
    "\n",
    "\n",
    "\n",
    "\n",
    "\n",
    "\n",
    "\n",
    "\n",
    "\n",
    "\n",
    "\n",
    "\n",
    "\n",
    "\n",
    "\n",
    "\n",
    "\n",
    "\n",
    "\n",
    "\n",
    "\n",
    "\n",
    "\n",
    "\n",
    "\n",
    "\n",
    "\n",
    "\n",
    "\n",
    "\n",
    "\n",
    "\n",
    "\n",
    "\n",
    "\n",
    "\n",
    "\n",
    "\n",
    "\n",
    "\n",
    "\n",
    "\n",
    "\n",
    "\n",
    "\n",
    "\n",
    "\n"
   ]
  }
 ],
 "metadata": {
  "kernelspec": {
   "display_name": "Python 3 (ipykernel)",
   "language": "python",
   "name": "python3"
  },
  "language_info": {
   "codemirror_mode": {
    "name": "ipython",
    "version": 3
   },
   "file_extension": ".py",
   "mimetype": "text/x-python",
   "name": "python",
   "nbconvert_exporter": "python",
   "pygments_lexer": "ipython3",
   "version": "3.9.6"
  }
 },
 "nbformat": 4,
 "nbformat_minor": 5
}
