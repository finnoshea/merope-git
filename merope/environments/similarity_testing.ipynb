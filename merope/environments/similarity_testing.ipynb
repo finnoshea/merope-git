{
 "cells": [
  {
   "cell_type": "code",
   "execution_count": 97,
   "id": "8a6c8c93",
   "metadata": {},
   "outputs": [],
   "source": [
    "import numpy as np\n",
    "from sklearn.metrics import pairwise\n",
    "import matplotlib.pyplot as plt\n",
    "from scipy import linalg"
   ]
  },
  {
   "cell_type": "code",
   "execution_count": 71,
   "id": "7d343784",
   "metadata": {},
   "outputs": [
    {
     "name": "stdout",
     "output_type": "stream",
     "text": [
      "0.29800275079176103\n",
      "0.4005903749163472\n"
     ]
    }
   ],
   "source": [
    "first = np.hstack((np.zeros(5), np.ones(5)))\n",
    "second = np.hstack((np.zeros(4), np.ones(6)))\n",
    "\n",
    "one = np.abs(np.fft.fft(first))\n",
    "two = np.abs(np.fft.fft(second)) + 1e-15\n",
    "\n",
    "print(pairwise.distance.jensenshannon(first, second, 2.0))\n",
    "print(pairwise.distance.jensenshannon(one / one.sum(), two / two.sum(), 2.0))"
   ]
  },
  {
   "cell_type": "code",
   "execution_count": 75,
   "id": "48861536",
   "metadata": {},
   "outputs": [
    {
     "name": "stdout",
     "output_type": "stream",
     "text": [
      "inf\n",
      "8.842114483900197e-10\n"
     ]
    }
   ],
   "source": [
    "third = np.sin(2 * np.pi * np.arange(50) / 20)\n",
    "fourth = np.sin(2 * np.pi * np.arange(1,51) / 20)\n",
    "\n",
    "three = np.abs(np.fft.fft(third))\n",
    "four = np.abs(np.fft.fft(fourth)) + 1e-15\n",
    "\n",
    "print(pairwise.distance.jensenshannon(third / third.sum(), fourth / fourth.sum(), 2.0))\n",
    "print(pairwise.distance.jensenshannon(three / three.sum(), four / four.sum(), 2.0))"
   ]
  },
  {
   "cell_type": "code",
   "execution_count": 94,
   "id": "aa9530fc",
   "metadata": {},
   "outputs": [
    {
     "name": "stdout",
     "output_type": "stream",
     "text": [
      "1.0\n",
      "7.48732020263332e-09\n"
     ]
    }
   ],
   "source": [
    "fifth = np.zeros(20)\n",
    "fifth[10] = 1\n",
    "sixth = np.zeros(20)\n",
    "sixth[9] = 1\n",
    "\n",
    "five = np.abs(np.fft.fft(fifth))\n",
    "six = np.abs(np.fft.fft(sixth)) + 1e-15\n",
    "\n",
    "print(pairwise.distance.jensenshannon(fifth / fifth.sum(), sixth / sixth.sum(), 2.0))\n",
    "print(pairwise.distance.jensenshannon(five / five.sum(), six / six.sum(), 2.0))"
   ]
  },
  {
   "cell_type": "code",
   "execution_count": 109,
   "id": "2a857a7c",
   "metadata": {},
   "outputs": [
    {
     "name": "stdout",
     "output_type": "stream",
     "text": [
      "[[ 0.-7.j  1.-6.j  2.-5.j]\n",
      " [ 3.-4.j  4.-3.j  5.-2.j]\n",
      " [ 6.-1.j  7.+0.j  8.+1.j]\n",
      " [ 9.+2.j 10.+3.j 11.+4.j]\n",
      " [12.+5.j 13.+6.j 14.+7.j]]\n"
     ]
    }
   ],
   "source": [
    "u = np.arange(15).reshape(5,3) + 1j * np.arange(-7,8).reshape(5,3)\n",
    "print(u)"
   ]
  },
  {
   "cell_type": "code",
   "execution_count": 110,
   "id": "8ae8ccb0",
   "metadata": {},
   "outputs": [
    {
     "data": {
      "text/plain": [
       "array([6.-1.j, 7.+0.j, 8.+1.j])"
      ]
     },
     "execution_count": 110,
     "metadata": {},
     "output_type": "execute_result"
    }
   ],
   "source": [
    "np.median(u, axis=0)"
   ]
  },
  {
   "cell_type": "code",
   "execution_count": null,
   "id": "37cdf98c",
   "metadata": {},
   "outputs": [],
   "source": []
  }
 ],
 "metadata": {
  "kernelspec": {
   "display_name": "Python 3 (ipykernel)",
   "language": "python",
   "name": "python3"
  },
  "language_info": {
   "codemirror_mode": {
    "name": "ipython",
    "version": 3
   },
   "file_extension": ".py",
   "mimetype": "text/x-python",
   "name": "python",
   "nbconvert_exporter": "python",
   "pygments_lexer": "ipython3",
   "version": "3.9.6"
  }
 },
 "nbformat": 4,
 "nbformat_minor": 5
}
